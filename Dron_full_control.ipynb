{
  "nbformat": 4,
  "nbformat_minor": 0,
  "metadata": {
    "colab": {
      "name": "Dron_full_control.ipynb",
      "provenance": []
    },
    "kernelspec": {
      "name": "python3",
      "display_name": "Python 3"
    },
    "language_info": {
      "name": "python"
    }
  },
  "cells": [
    {
      "cell_type": "markdown",
      "source": [
        "# first of all go to playstore and install the tello app and then connect it with your wifi"
      ],
      "metadata": {
        "id": "KinRE4DNtNTa"
      }
    },
    {
      "cell_type": "code",
      "source": [
        "!pip install djitellopy"
      ],
      "metadata": {
        "colab": {
          "base_uri": "https://localhost:8080/"
        },
        "id": "yWXmAYDMveLp",
        "outputId": "ea6380f7-f764-4f7e-c32c-e2fa18c2b17f"
      },
      "execution_count": null,
      "outputs": [
        {
          "output_type": "stream",
          "name": "stdout",
          "text": [
            "Collecting djitellopy\n",
            "  Downloading djitellopy-2.4.0-py3-none-any.whl (14 kB)\n",
            "Requirement already satisfied: opencv-python in /usr/local/lib/python3.7/dist-packages (from djitellopy) (4.1.2.30)\n",
            "Requirement already satisfied: numpy in /usr/local/lib/python3.7/dist-packages (from djitellopy) (1.21.5)\n",
            "Installing collected packages: djitellopy\n",
            "Successfully installed djitellopy-2.4.0\n"
          ]
        }
      ]
    },
    {
      "cell_type": "markdown",
      "source": [
        "One thing is remember that tello app connected to your wifi"
      ],
      "metadata": {
        "id": "7PCIgDHswJP4"
      }
    },
    {
      "cell_type": "code",
      "source": [
        "from djitellopy import tello\n",
        "from time import sleep\n",
        "me=tello.Tello() # tello object\n",
        "me.connect()\n",
        "print(me.get_battery()) # how many battery remains in my drone"
      ],
      "metadata": {
        "id": "Q9RChTw-tYxo"
      },
      "execution_count": null,
      "outputs": []
    },
    {
      "cell_type": "code",
      "source": [
        "# move foreard means tello moves x cm forward\n",
        "me.move_forward(30) # 30 cm\n",
        "# we wants to control that becoz drone move 3 directions and rotate in one directions\n",
        "me.takeoff()\n",
        "me.send_rc_control(0,50,0,0)# left right vellocity (left_right_vellocity,fireard_backward_vellocity,up_down_velocity,yaw_velocity)\n",
        "# and return True and False for successfull or not \n",
        "sleep(2) # speed of 2 second 50 after t\n",
        "me.send_rc_control(0,0,0,0)\n",
        "sleep(2)\n",
        "me.send_rc_control(0,0,0,0)\n",
        "me.land() # after come to on the ground"
      ],
      "metadata": {
        "id": "-f3f0gqttY1H"
      },
      "execution_count": null,
      "outputs": []
    },
    {
      "cell_type": "markdown",
      "source": [
        "## Image Capturing"
      ],
      "metadata": {
        "id": "VULhibgo69UP"
      }
    },
    {
      "cell_type": "code",
      "source": [
        "# Stream gives the all the frame and process that \n",
        "import cv2\n",
        "me.streamon()\n",
        "while True:\n",
        "  image=me.get_frame_read().frame # that will be gives the individual image comming from the tellp drone\n",
        "  # if we wants to process the image faster then we needs to process the images faster by using the open cv library\n",
        "  image=cv2.resize(image,(360,240))\n",
        "  cv2.imshow(\"Image\",image)\n",
        "  cv2.waitkey(1) # gives the delay 1 ms of the image"
      ],
      "metadata": {
        "id": "oysFzj3y6__Y"
      },
      "execution_count": null,
      "outputs": []
    },
    {
      "cell_type": "markdown",
      "source": [
        "##keypress.py"
      ],
      "metadata": {
        "id": "8vL4LDkM7AHo"
      }
    },
    {
      "cell_type": "code",
      "source": [
        "import pygame\n",
        "\n",
        "# create the window\n",
        "def init():\n",
        "  pygame.init()\n",
        "  win=pygame.display.set_mode((400,400)) # gives the size\n",
        "\n",
        "# get the key press\n",
        "def getkey(keyName): # represent wether the key pressed or not\n",
        "  ans=False\n",
        "  for eve in pygame.event.get():pass\n",
        "  # now check the true and flase and create the certian formate\n",
        "  keyInput=pygame.key.get_pressed()\n",
        "  mykey=getattr(pygame,\"k_{}\".format(keyName))\n",
        "  if keyInput[mykey]:\n",
        "    ans=True\n",
        "  pygame.display.update()\n",
        "  return ans\n",
        "\n",
        "def main():\n",
        "  # print(getkey(\"a\"))# if you press key (a) then wether the code compile at that time\n",
        "  # return \" \"\n",
        "  if getkey(\"LEFT\"):\n",
        "    print(\"Left Key pressed\")\n",
        "  elif getkey(\"RIGHT\"):\n",
        "    PRINT(\"right key pressed\")\n",
        "  else:\n",
        "    print(\" \")\n",
        "\n",
        "\n",
        "if __name__==\"__main__\":\n",
        "  init()\n",
        "  while True:\n",
        "    main()\n",
        "    \n"
      ],
      "metadata": {
        "id": "VCEicX1Z7AN2"
      },
      "execution_count": null,
      "outputs": []
    },
    {
      "cell_type": "markdown",
      "source": [
        "## keyword Control"
      ],
      "metadata": {
        "id": "Q7o1IFEg7AQ0"
      }
    },
    {
      "cell_type": "markdown",
      "source": [
        "now we have used to the keyword for controlling the our drone and after then we have implements the basic movementem for that we have create new module that called key press module"
      ],
      "metadata": {
        "id": "JqZnxsOa7AUO"
      }
    },
    {
      "cell_type": "code",
      "source": [
        "from djitellopy import tello\n",
        "from time import sleep\n",
        "import KeyPressModule as kp\n",
        "import cv2\n",
        "import time\n",
        "kp.init()\n",
        "me=tello.Tello()\n",
        "me.connect()\n",
        "print(me.get_battery())\n",
        "\n",
        "def getkeyboardInput():\n",
        "  lr,fb,upyv=0,0,0,0\n",
        "  if kp.getkey(\"LEFT\"):\n",
        "    lr=-speed\n",
        "  elif kp.getkey(\"RIGHT\"):\n",
        "    lr=speed\n",
        "\n",
        "  if kp.getkey(\"UP\"):\n",
        "    fb=-speed\n",
        "  elif kp.getkey(\"DOWN\"):\n",
        "    fb=speed\n",
        "\n",
        "  if kp.getkey(\"w\"):\n",
        "    ud=-speed\n",
        "  elif kp.getkey(\"s\"):\n",
        "    ud=speed\n",
        "\n",
        "  if kp.getkey(\"a\"):\n",
        "    yv=-speed\n",
        "  elif kp.getkey(\"d\"):\n",
        "    yv=speed\n",
        "  \n",
        "  if kp.getkey(\"q\"):\n",
        "    yl=me.land()\n",
        "    time.sleep(3)\n",
        "  if kp.getkey(\"e\"):\n",
        "    yl=me.takeoff()\n",
        "\n",
        "  if kp.getkey(\"z\"):\n",
        "    cv2.imwrite(f\"Resources/Images/{time.time()}.jpg\")\n",
        "\n",
        "  return [lr,fb,ud,yv]\n",
        "me.takeoff()\n",
        "\n",
        "while True:\n",
        "  vals=getkeyboardInput()\n",
        "  me.send_rc_control(vals[0],vals[1],vals[2],vals[3])\n",
        "  image=me.get_frame_read().frame # that will be gives the individual image comming from the tellp drone\n",
        "  # if we wants to process the image faster then we needs to process the images faster by using the open cv library\n",
        "  image=cv2.resize(image,(360,240))\n",
        "  cv2.imshow(\"Image\",image)\n",
        "  cv2.waitkey(1) # gives the delay 1 ms of the image\n"
      ],
      "metadata": {
        "id": "8lR1CzoD7AXY"
      },
      "execution_count": null,
      "outputs": []
    },
    {
      "cell_type": "markdown",
      "source": [
        "## Mapping"
      ],
      "metadata": {
        "id": "euPpGzrO7AbC"
      }
    },
    {
      "cell_type": "markdown",
      "source": [
        "Every steps we have needs to calulate the cordinate \n",
        "* x=d*cosine(45) ,x cordinate\n",
        "* y=d*cosine(45) ,y cordinate\n",
        "\n",
        "\n",
        "\n"
      ],
      "metadata": {
        "id": "zSgIiRjfdRl0"
      }
    },
    {
      "cell_type": "code",
      "source": [
        "from djitellopy import tello\n",
        "from time import sleep\n",
        "import KeyPressModule as kp\n",
        "import cv2\n",
        "import time\n",
        "import  numpy as np\n",
        "import math\n",
        "###################################### INITALIZE THE PARAMETERS #################################\n",
        "fspeed=117/10 # forward speed in cm/s  (15 cm/s)\n",
        "aspeed=360/10 # Angular Speed in Degree/s\n",
        "interval=0.25\n",
        "\n",
        "dInterval=fspeed*interval\n",
        "aInterval=aspeed*interval\n",
        "######################################################################3\n",
        "\n",
        "# let's find the values of for we have travel so idea is that at any other points we have plot to the x and y\n",
        "x,y=500\n",
        "# and angel that can't not be zero that will be continue by distance will be reset every time\n",
        "kp.init()\n",
        "me=tello.Tello()\n",
        "me.connect()\n",
        "print(me.get_battery())\n",
        "points=[(0,0),(0,0)] # that is not empty in bignning we have 2 values other wise gives you error index is out of range \n",
        "yaw=0\n",
        "def getkeyboardInput():\n",
        "  lr,fb,upyv=0,0,0,0\n",
        "  global yaw,x,y,a\n",
        "  speed=15\n",
        "  aspeed=50\n",
        "  if kp.getkey(\"LEFT\"):\n",
        "    lr=-speed\n",
        "    d=dInterval\n",
        "    # we will not travelling forward directions we will travelling towards the west and we have change our angel\n",
        "    a=-180\n",
        "  elif kp.getkey(\"RIGHT\"):\n",
        "    lr=speed\n",
        "    d=-dInterval\n",
        "    # we will not travelling forward directions we will travelling towards the west and we have change our angel\n",
        "    a=180\n",
        "\n",
        "  if kp.getkey(\"UP\"):\n",
        "    fb=-speed\n",
        "    d=dInterval\n",
        "    # we will not travelling forward directions we will travelling towards the west and we have change our angel\n",
        "    a=270\n",
        "  elif kp.getkey(\"DOWN\"):\n",
        "    fb=-speed\n",
        "    d=-dInterval\n",
        "    # we will not travelling forward directions we will travelling towards the west and we have change our angel\n",
        "    a=-90\n",
        "\n",
        "  if kp.getkey(\"w\"):\n",
        "    ud=-speed\n",
        "  elif kp.getkey(\"s\"):\n",
        "    ud=speed\n",
        "\n",
        "  if kp.getkey(\"a\"):\n",
        "    yv=-speed\n",
        "    yaw-=aInterval\n",
        "  elif kp.getkey(\"d\"):\n",
        "    yv=speed\n",
        "    yaw+=aInterval\n",
        "  \n",
        "  if kp.getkey(\"q\"):\n",
        "    yl=me.land()\n",
        "    time.sleep(3)\n",
        "  if kp.getkey(\"e\"):\n",
        "    yl=me.takeoff()\n",
        "\n",
        "  if kp.getkey(\"z\"):\n",
        "    cv2.imwrite(f\"Resources/Images/{time.time()}.jpg\")\n",
        "  \n",
        "  # update the cartision product\n",
        "  time.sleep(0.25)\n",
        "  a+=yaw\n",
        "  x+=int(d*math.cos(math.radians(a)))\n",
        "  y+=int(d*math.sin(math.radians(a)))\n",
        "\n",
        "  return [lr,fb,ud,yv]\n",
        "me.takeoff()\n",
        "\n",
        "def drowPoints(img,points):\n",
        "  # cv2.circle(img,(300,500),10,(0,0,255),cv2.FILLED)\n",
        "  for point in points:\n",
        "    cv2.circle(img,points[-1],8,(0,255,0),cv2.FILLED) # green colours\n",
        "\n",
        "  cv2.putText(img,f\"({points[-1][0]-250},{(points[-1][1]-500)/100})m\",(points[-1][0]+10,points[-1][1]+30,# becoz ur first positions is 500\n",
        "                                                                     cv2.FONT_HERSHEY_PLAIN,1,# 1=thickness\n",
        "                                                                    (255,0,255),1 )\n",
        "  return \" \"\n",
        "\n",
        "while True:\n",
        "  vals=getkeyboardInput()\n",
        "  me.send_rc_control(vals[0],vals[1],vals[2],vals[3])\n",
        "  sleep(0.05)\n",
        "  img=np.zeros((1000,1000,3),np.uint8)\n",
        "  points.append((vals[4],vals[5]))\n",
        "  if points[-1][0]!=vals[4] or points[-1][1]!=vals[5]: # that means we are not plotting the same values again by again\n",
        "    points.append(vals[4],vals[5])\n",
        "    \n",
        "  drowPoints(img,points)\n",
        "  cv2.imshow(\"Output\",img)\n",
        "  cv2.waitkey(1)"
      ],
      "metadata": {
        "id": "ZB1dtMW0dRrU"
      },
      "execution_count": null,
      "outputs": []
    },
    {
      "cell_type": "markdown",
      "source": [
        "## Face Tracking"
      ],
      "metadata": {
        "id": "ljizOoLydRw-"
      }
    },
    {
      "cell_type": "markdown",
      "source": [
        "\n",
        "\n",
        "* If Face Area is small then-----> Move Forward\n",
        "\n",
        "* If Face Area is Big then------> Move Backward\n",
        "\n",
        "\n"
      ],
      "metadata": {
        "id": "RdnPbp3KdR0i"
      }
    },
    {
      "cell_type": "code",
      "source": [
        "import numpy as np\n",
        "import cv2\n",
        "pid=[0.4,0.4,0\n",
        "     ]\n",
        "fbRange=[6200,6800] # forward range\n",
        "def FindFace(img):\n",
        "  faceCascade=cv2.CascadeClassifier(\"##############XYZ####################\") # txt file\n",
        "  imgGray=cv2.cvtColor(img,cv2.COLOR_BGR2GRAY)\n",
        "  faces=faceCascade.detectMultiScale(imgGray,1.2,8)\n",
        "  # Then we are going to create the list of all over the faces that are lot of faces we have to find out the bigger one\n",
        "  myFaceList=[]\n",
        "  myFaceListArea=[]\n",
        "\n",
        "  for (x,y,w,h) in faces:\n",
        "    cv2.rectangle(img,(x,y),(x+w,y+h),(0,0,255),2) # starting and ending points with thickness 2 and color red\n",
        "    cx=x+w//2\n",
        "    cy=y+h//2\n",
        "    area=w+h\n",
        "    cv2.circle(img,(cx,cy),5,(0,255,0),cv2.FILLED)# radius =5\n",
        "    myFaceList.append([cx,cy])\n",
        "    myFaceListArea.append(area)\n",
        "  if len(myFaceListArea)!=0:\n",
        "    i=myFaceListArea.index(max(myFaceListArea))\n",
        "    return img,[myFaceList[i],myFaceListArea[i]]\n",
        "  else:\n",
        "    return img,[[0,0],0]\n",
        "  \n",
        "def trackface(me,info,w,pid,pError): # w=width,\n",
        "  area=info[1]\n",
        "  x,y=info[0]\n",
        "  error=x-w//2\n",
        "  speed=pid[0]\n",
        "  if area>fbRange[0] and area<fbRange[1]:\n",
        "    fb=0\n",
        "  elif area>fbRange[2]: # if it is too close or too big then go backward\n",
        "    fb=-20\n",
        "  elif area<fbRange[0] and area!=0: # if it is too or too small far then go forward\n",
        "    fb=20\n",
        "  else:  \n",
        "    return \" \"             \n",
        "\n",
        "cap=cv2.VideoCapture(1)\n",
        "while True:\n",
        "  _,img=cap.read()\n",
        "  img,info=FindFace(img)\n",
        "  print(\"Area\",info[1],\"##\",\"Center\",info[0])\n",
        "  cv2.imshow(\"Output\",img)\n",
        "  cv2.waitKey(1)\n",
        "\n",
        "\n"
      ],
      "metadata": {
        "id": "Kf9qveULuyAa"
      },
      "execution_count": null,
      "outputs": []
    },
    {
      "cell_type": "code",
      "source": [
        ""
      ],
      "metadata": {
        "id": "QQ5VYvFauyCt"
      },
      "execution_count": null,
      "outputs": []
    },
    {
      "cell_type": "code",
      "source": [
        ""
      ],
      "metadata": {
        "id": "0tMhBaOTuyFH"
      },
      "execution_count": null,
      "outputs": []
    },
    {
      "cell_type": "code",
      "source": [
        ""
      ],
      "metadata": {
        "id": "2X-zY4fQuyHX"
      },
      "execution_count": null,
      "outputs": []
    },
    {
      "cell_type": "code",
      "source": [
        ""
      ],
      "metadata": {
        "id": "3xLZTPmDuyI_"
      },
      "execution_count": null,
      "outputs": []
    },
    {
      "cell_type": "code",
      "source": [
        ""
      ],
      "metadata": {
        "id": "T1D5AHX9uyLS"
      },
      "execution_count": null,
      "outputs": []
    },
    {
      "cell_type": "code",
      "source": [
        ""
      ],
      "metadata": {
        "id": "d3ICRJk7uyOn"
      },
      "execution_count": null,
      "outputs": []
    }
  ]
}